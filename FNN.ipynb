{
  "nbformat": 4,
  "nbformat_minor": 0,
  "metadata": {
    "colab": {
      "provenance": [],
      "authorship_tag": "ABX9TyPhZpPKcVm8HvKaG9SM782r",
      "include_colab_link": true
    },
    "kernelspec": {
      "name": "python3",
      "display_name": "Python 3"
    },
    "language_info": {
      "name": "python"
    }
  },
  "cells": [
    {
      "cell_type": "markdown",
      "metadata": {
        "id": "view-in-github",
        "colab_type": "text"
      },
      "source": [
        "<a href=\"https://colab.research.google.com/github/ImAzazel33/Deep-Learning/blob/main/FNN.ipynb\" target=\"_parent\"><img src=\"https://colab.research.google.com/assets/colab-badge.svg\" alt=\"Open In Colab\"/></a>"
      ]
    },
    {
      "cell_type": "code",
      "execution_count": 1,
      "metadata": {
        "id": "ZtgNaYWJcUt2"
      },
      "outputs": [],
      "source": [
        "import numpy as np\n",
        "import pandas as pd\n",
        "import tensorflow as tf\n",
        "from sklearn.datasets import load_iris\n",
        "from sklearn.model_selection import train_test_split\n",
        "from sklearn.preprocessing import StandardScaler\n",
        "from tensorflow.keras.models import Sequential\n",
        "from tensorflow.keras.layers import Dense\n",
        "from tensorflow.keras.utils import to_categorical"
      ]
    },
    {
      "cell_type": "code",
      "source": [
        "data = load_iris()\n",
        "X = data.data\n",
        "y = data.target"
      ],
      "metadata": {
        "id": "710ryhfzctpT"
      },
      "execution_count": 2,
      "outputs": []
    },
    {
      "cell_type": "code",
      "source": [
        "X_train, X_test, y_train, y_test = train_test_split(X, y, test_size=0.2, random_state=42)"
      ],
      "metadata": {
        "id": "PcQtgvlCczU5"
      },
      "execution_count": 3,
      "outputs": []
    },
    {
      "cell_type": "code",
      "source": [
        "scaler = StandardScaler()\n",
        "X_train = scaler.fit_transform(X_train)\n",
        "X_test = scaler.transform(X_test)"
      ],
      "metadata": {
        "id": "8NDjSxxLc3RO"
      },
      "execution_count": 4,
      "outputs": []
    },
    {
      "cell_type": "code",
      "source": [
        "y_train = to_categorical(y_train, num_classes=3)\n",
        "y_test = to_categorical(y_test, num_classes=3)"
      ],
      "metadata": {
        "id": "jmOIDCuPc5KH"
      },
      "execution_count": 5,
      "outputs": []
    },
    {
      "cell_type": "code",
      "source": [
        "# Define the FFN model\n",
        "model = Sequential()\n",
        "model.add(Dense(64, input_dim=4, activation='relu'))  # Input layer with 4 features\n",
        "model.add(Dense(32, activation='relu'))             # Hidden layer with 32 units and ReLU activation\n",
        "model.add(Dense(3, activation='softmax'))"
      ],
      "metadata": {
        "id": "yM-e0pnsc7K4"
      },
      "execution_count": 6,
      "outputs": []
    },
    {
      "cell_type": "code",
      "source": [
        "# Compile the model\n",
        "model.compile(loss='categorical_crossentropy', optimizer='adam', metrics=['accuracy'])"
      ],
      "metadata": {
        "id": "AqIZr26fdHug"
      },
      "execution_count": 7,
      "outputs": []
    },
    {
      "cell_type": "code",
      "source": [
        "model.fit(X_train, y_train, epochs=10, batch_size=16, validation_split=0.1)"
      ],
      "metadata": {
        "colab": {
          "base_uri": "https://localhost:8080/"
        },
        "id": "mePgT2zNdJzv",
        "outputId": "fa3a6efb-dc5d-484b-f65e-4e07f86dff66"
      },
      "execution_count": 9,
      "outputs": [
        {
          "output_type": "stream",
          "name": "stdout",
          "text": [
            "Epoch 1/10\n",
            "7/7 [==============================] - 0s 13ms/step - loss: 0.0473 - accuracy: 0.9815 - val_loss: 0.4181 - val_accuracy: 0.9167\n",
            "Epoch 2/10\n",
            "7/7 [==============================] - 0s 7ms/step - loss: 0.0473 - accuracy: 0.9815 - val_loss: 0.4448 - val_accuracy: 0.9167\n",
            "Epoch 3/10\n",
            "7/7 [==============================] - 0s 7ms/step - loss: 0.0465 - accuracy: 0.9815 - val_loss: 0.4325 - val_accuracy: 0.9167\n",
            "Epoch 4/10\n",
            "7/7 [==============================] - 0s 7ms/step - loss: 0.0459 - accuracy: 0.9815 - val_loss: 0.4446 - val_accuracy: 0.9167\n",
            "Epoch 5/10\n",
            "7/7 [==============================] - 0s 6ms/step - loss: 0.0467 - accuracy: 0.9815 - val_loss: 0.4322 - val_accuracy: 0.9167\n",
            "Epoch 6/10\n",
            "7/7 [==============================] - 0s 6ms/step - loss: 0.0457 - accuracy: 0.9907 - val_loss: 0.4329 - val_accuracy: 0.9167\n",
            "Epoch 7/10\n",
            "7/7 [==============================] - 0s 8ms/step - loss: 0.0448 - accuracy: 0.9907 - val_loss: 0.4376 - val_accuracy: 0.9167\n",
            "Epoch 8/10\n",
            "7/7 [==============================] - 0s 8ms/step - loss: 0.0450 - accuracy: 0.9907 - val_loss: 0.4415 - val_accuracy: 0.9167\n",
            "Epoch 9/10\n",
            "7/7 [==============================] - 0s 7ms/step - loss: 0.0448 - accuracy: 0.9907 - val_loss: 0.4553 - val_accuracy: 0.9167\n",
            "Epoch 10/10\n",
            "7/7 [==============================] - 0s 7ms/step - loss: 0.0447 - accuracy: 0.9815 - val_loss: 0.4460 - val_accuracy: 0.9167\n"
          ]
        },
        {
          "output_type": "execute_result",
          "data": {
            "text/plain": [
              "<keras.callbacks.History at 0x78328b79ded0>"
            ]
          },
          "metadata": {},
          "execution_count": 9
        }
      ]
    },
    {
      "cell_type": "code",
      "source": [
        "# Evaluate the model on the test set\n",
        "loss, accuracy = model.evaluate(X_test, y_test)\n",
        "print(f\"Test loss: {loss:.4f}, Test accuracy: {accuracy:.4f}\")"
      ],
      "metadata": {
        "colab": {
          "base_uri": "https://localhost:8080/"
        },
        "id": "XxDPGMRxdMK2",
        "outputId": "8714df65-c87c-4633-cfc3-13c0312c25a5"
      },
      "execution_count": 10,
      "outputs": [
        {
          "output_type": "stream",
          "name": "stdout",
          "text": [
            "1/1 [==============================] - 0s 55ms/step - loss: 0.0252 - accuracy: 1.0000\n",
            "Test loss: 0.0252, Test accuracy: 1.0000\n"
          ]
        }
      ]
    },
    {
      "cell_type": "code",
      "source": [],
      "metadata": {
        "id": "sEc254rwdVn_"
      },
      "execution_count": null,
      "outputs": []
    }
  ]
}